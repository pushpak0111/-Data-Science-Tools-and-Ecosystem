{
 "cells": [
  {
   "cell_type": "markdown",
   "id": "773529f7-3a2c-47b1-8674-0a3c2982f492",
   "metadata": {},
   "source": [
    "# Data Science Tools and Ecosystem"
   ]
  },
  {
   "cell_type": "markdown",
   "id": "dbf7fd3e-1c59-47f1-b549-828f5179952d",
   "metadata": {},
   "source": [
    "In this notebook, Data Science Tools and Ecosystem are summarized."
   ]
  },
  {
   "cell_type": "markdown",
   "id": "c824026d-6a53-47b7-873c-8f21c738da53",
   "metadata": {},
   "source": [
    "**Objectives:**\n",
    "* List popular languages for Data Science.\n",
    "* List commonly used libraries for Data Science.\n",
    "* List Data Science Tools.\n",
    "* Arithmetic expressions in Python."
   ]
  },
  {
   "cell_type": "markdown",
   "id": "e3e18fa9-108e-4397-bef8-9cb26694a532",
   "metadata": {},
   "source": [
    "Some of the most popular languages that Data Scientists use are:\n",
    "1. Python\n",
    "2. R\n",
    "3. C++\n",
    "4. Julia"
   ]
  },
  {
   "cell_type": "markdown",
   "id": "3f5c78c3-6067-4cfb-bc74-d830e7874470",
   "metadata": {},
   "source": [
    "Some of the commonly used libraries used by Data Scientists are:\n",
    "1. NumPy\n",
    "2. Pandas\n",
    "3. Matplotlib\n",
    "4. TensorFlow"
   ]
  },
  {
   "cell_type": "markdown",
   "id": "d6483286-38bb-4b29-8482-d93e9b6a2512",
   "metadata": {},
   "source": [
    " | Data Science Tools |\n",
    "----------\n",
    "| Jupyter |\n",
    "| RStudio |\n",
    "| Python | \n"
   ]
  },
  {
   "cell_type": "markdown",
   "id": "fc89361d",
   "metadata": {},
   "source": [
    "### Below are a few examples of evaluating arithmetic expressions in Python."
   ]
  },
  {
   "cell_type": "code",
   "execution_count": 2,
   "id": "412b2b5f",
   "metadata": {},
   "outputs": [
    {
     "name": "stdout",
     "output_type": "stream",
     "text": [
      "This a simple arithmetic expression to multiply then add intgers.\n",
      "17\n"
     ]
    }
   ],
   "source": [
    "print(\"This a simple arithmetic expression to multiply then add intgers.\")\n",
    "print((3*4)+5)"
   ]
  },
  {
   "cell_type": "code",
   "execution_count": 3,
   "id": "bc896993",
   "metadata": {},
   "outputs": [
    {
     "name": "stdout",
     "output_type": "stream",
     "text": [
      "This will convert 200 minutes to hours by dividing by 60. \n",
      "3.3333333333333335\n"
     ]
    }
   ],
   "source": [
    "print(\"This will convert 200 minutes to hours by dividing by 60. \")\n",
    "print(200/60)"
   ]
  },
  {
   "cell_type": "markdown",
   "id": "151cae21",
   "metadata": {},
   "source": [
    "## Author\n",
    "Pushpak Kore"
   ]
  }
 ],
 "metadata": {
  "kernelspec": {
   "display_name": "Python 3",
   "language": "python",
   "name": "python3"
  },
  "language_info": {
   "codemirror_mode": {
    "name": "ipython",
    "version": 3
   },
   "file_extension": ".py",
   "mimetype": "text/x-python",
   "name": "python",
   "nbconvert_exporter": "python",
   "pygments_lexer": "ipython3",
   "version": "3.11.4"
  }
 },
 "nbformat": 4,
 "nbformat_minor": 5
}
